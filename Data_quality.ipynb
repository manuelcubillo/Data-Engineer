{
 "cells": [
  {
   "cell_type": "markdown",
   "metadata": {
    "editable": true
   },
   "source": [
    "# Data Quality"
   ]
  },
  {
   "cell_type": "markdown",
   "metadata": {
    "editable": true
   },
   "source": [
    "In this notebook we are going to run the following data quality checks to these tables:\n"
   ]
  },
  {
   "cell_type": "code",
   "execution_count": 7,
   "metadata": {
    "editable": true
   },
   "outputs": [],
   "source": [
    "tables = ['immigration', 'personal', 'city', 'temperature']"
   ]
  },
  {
   "cell_type": "markdown",
   "metadata": {
    "editable": true
   },
   "source": [
    "## All tables has been correctly created"
   ]
  },
  {
   "cell_type": "code",
   "execution_count": 2,
   "metadata": {
    "editable": true
   },
   "outputs": [],
   "source": [
    "from pyspark.sql import SparkSession"
   ]
  },
  {
   "cell_type": "code",
   "execution_count": 3,
   "metadata": {
    "editable": true
   },
   "outputs": [],
   "source": [
    "spark = SparkSession.builder\\\n",
    "                    .config(\"spark.jars.packages\", \"org.apache.hadoop:hadoop-aws:2.7.0\")\\\n",
    "                    .enableHiveSupport().getOrCreate()"
   ]
  },
  {
   "cell_type": "code",
   "execution_count": 8,
   "metadata": {
    "editable": true
   },
   "outputs": [
    {
     "name": "stdout",
     "output_type": "stream",
     "text": [
      "root\n",
      " |-- immigration_id: double (nullable = true)\n",
      " |-- state_code: string (nullable = true)\n",
      " |-- arrival_date: timestamp (nullable = true)\n",
      " |-- departure_date: string (nullable = true)\n",
      " |-- mode: string (nullable = true)\n",
      " |-- visa: string (nullable = true)\n",
      " |-- tem_id: string (nullable = true)\n",
      "\n",
      "root\n",
      " |-- immigration_id: double (nullable = true)\n",
      " |-- gender: string (nullable = true)\n",
      " |-- age: double (nullable = true)\n",
      " |-- country_from: string (nullable = true)\n",
      " |-- biryear: double (nullable = true)\n",
      "\n",
      "root\n",
      " |-- State: string (nullable = true)\n",
      " |-- Median_Age: double (nullable = true)\n",
      " |-- Male_Population: double (nullable = true)\n",
      " |-- Female_Population: double (nullable = true)\n",
      " |-- Total_Population: double (nullable = true)\n",
      " |-- State_Code: string (nullable = true)\n",
      " |-- Male_percentage: double (nullable = true)\n",
      " |-- Female_percentage: double (nullable = true)\n",
      "\n",
      "root\n",
      " |-- dt: timestamp (nullable = true)\n",
      " |-- AverageTemperature: double (nullable = true)\n",
      " |-- Country: string (nullable = true)\n",
      " |-- temp_id: long (nullable = true)\n",
      "\n"
     ]
    }
   ],
   "source": [
    "for table in tables:\n",
    "    spark.read.parquet(table).printSchema()"
   ]
  },
  {
   "cell_type": "markdown",
   "metadata": {
    "editable": true
   },
   "source": [
    "## There is any table empty"
   ]
  },
  {
   "cell_type": "code",
   "execution_count": 9,
   "metadata": {
    "editable": true
   },
   "outputs": [
    {
     "name": "stdout",
     "output_type": "stream",
     "text": [
      "TABLE immigration  IS FILLED\n",
      "TABLE personal  IS FILLED\n",
      "TABLE city  IS FILLED\n",
      "TABLE temperature  IS FILLED\n"
     ]
    }
   ],
   "source": [
    "for table in tables:\n",
    "    num_rows = spark.read.parquet(table).count()\n",
    "    if num_rows == 0:\n",
    "        raise ValueError('ATTENTION!!', table ,'EMPTY')\n",
    "    else:\n",
    "        print('TABLE', table, ' IS FILLED')"
   ]
  },
  {
   "cell_type": "markdown",
   "metadata": {
    "editable": true
   },
   "source": [
    "## There is any immigrant ID duplicated"
   ]
  },
  {
   "cell_type": "code",
   "execution_count": 12,
   "metadata": {
    "editable": true
   },
   "outputs": [
    {
     "name": "stdout",
     "output_type": "stream",
     "text": [
      "DATA IS CORRECT\n"
     ]
    }
   ],
   "source": [
    "immigration_table = spark.read.parquet('immigration')\n",
    "if immigration_table.count() > immigration_table.dropDuplicates(['immigration_id']).count():\n",
    "    raise ValueError('Data has duplicates')\n",
    "else:\n",
    "    print('DATA IS CORRECT')"
   ]
  }
 ],
 "metadata": {
  "kernelspec": {
   "display_name": "Python 3",
   "language": "python",
   "name": "python3"
  },
  "language_info": {
   "codemirror_mode": {
    "name": "ipython",
    "version": 3
   },
   "file_extension": ".py",
   "mimetype": "text/x-python",
   "name": "python",
   "nbconvert_exporter": "python",
   "pygments_lexer": "ipython3",
   "version": "3.8.12"
  }
 },
 "nbformat": 4,
 "nbformat_minor": 4
}
