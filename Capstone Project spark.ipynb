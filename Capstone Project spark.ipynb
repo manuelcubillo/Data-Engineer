{
 "cells": [
  {
   "cell_type": "markdown",
   "metadata": {
    "editable": true
   },
   "source": [
    "\n",
    "# Data Engineering Capstone Project\n",
    "\n",
    "#### Project Summary\n",
    "\n",
    "In this project, we are going to build a complete ETL pipeline to process information from several sources. The goal is to merge, the information from the sources, process it, and create a data model that helps later to analyze this data. For that purpose, we are going to work with Spark, and the data is:\n",
    "\n",
    "- Immigration: specific information about every people that entry to EEUU\n",
    "- Cities: demographic information about cities and states.\n",
    "- Temperature: global temperature around the world, has been measured monthly.\n",
    "\n",
    "With these datasets, we are going to build the data model and ETL. The final purpose is to help analytical people understand why those travelers come in that moment of the year, taking into account the temperature from the origin country, and also the temperature at that moment in the United States. Besides, demographic information can be added to this analysis where we can take into account the age of the traveler, the median age of state that is visited, and also the total population or percentage male/female.\n",
    "\n",
    "The project follows the following steps:\n",
    "* Step 1: Scope the Project and Gather Data\n",
    "* Step 2: Explore and Assess the Data\n",
    "* Step 3: Define the Data Model\n",
    "* Step 4: Run ETL to Model the Data\n",
    "* Step 5: Check data quality\n",
    "* Step 6: Complete Project Write Up"
   ]
  },
  {
   "cell_type": "code",
   "execution_count": 3,
   "metadata": {
    "editable": true
   },
   "outputs": [],
   "source": [
    "# imported libraries\n",
    "import pandas as pd\n",
    "import numpy as np\n",
    "from datetime import datetime, timedelta\n",
    "import glob\n",
    "import re\n",
    "import math\n",
    "from pyspark.sql import SparkSession\n",
    "from pyspark.sql.functions import col, udf, asc, monotonically_increasing_id, to_timestamp, lit\n",
    "from pyspark.sql.types import StringType, IntegerType, IntegerType"
   ]
  },
  {
   "cell_type": "markdown",
   "metadata": {
    "editable": true
   },
   "source": [
    "### Step 1: Scope the Project and Gather Data\n",
    "\n",
    "Every dataset is going to be explained in the following points:"
   ]
  },
  {
   "cell_type": "markdown",
   "metadata": {
    "editable": true
   },
   "source": [
    "#### 1.1 Read immigration data using Spark. It reads all data from \"sas_data\" folder\n",
    "\n",
    "This data set is name: I94 Immigration. This data comes from the US National Tourism and Trade Office and is basically records from international visitors to US. These records store information such as arrival and departure date, visa, mode, and personal information of the passenger as it could be gender, country and age. [Link to source](https://travel.trade.gov/research/reports/i94/historical/2016.html)\n",
    "\n",
    "\n",
    "In this first step we are going to load the raw data from the US National Tourism and Trade Office to a dataframe, and later on we will processed in our data model."
   ]
  },
  {
   "cell_type": "code",
   "execution_count": 23,
   "metadata": {
    "editable": true
   },
   "outputs": [],
   "source": [
    "\n",
    "spark = SparkSession.builder.\\\n",
    "config(\"spark.jars.repositories\", \"https://repos.spark-packages.org/\").\\\n",
    "config(\"spark.jars.packages\", \"saurfang:spark-sas7bdat:2.0.0-s_2.11\").\\\n",
    "enableHiveSupport().getOrCreate()\n",
    "\n",
    "i94_fname = \"../../data/18-83510-I94-Data-2016/i94_apr16_sub.sas7bdat\"\n",
    "i94_files = glob.glob(\"../../data/18-83510-I94-Data-2016/*.sas7bdat\")\n",
    "#Only april month. This small dataset contais more than 3Million records\n",
    "immigrationDF = spark.read.format(\"com.github.saurfang.sas.spark\").load(i94_fname)\n",
    "\n",
    "\n",
    "# To load the full dataset uncomment the following line\n",
    "#immigrationDF = spark.read.parquet(\"sas_data\")\n",
    "\n"
   ]
  },
  {
   "cell_type": "code",
   "execution_count": 24,
   "metadata": {
    "editable": true
   },
   "outputs": [
    {
     "name": "stdout",
     "output_type": "stream",
     "text": [
      "+-----+------+------+------+------+-------+-------+-------+-------+-------+------+-------+-----+--------+--------+-----+-------+-------+-------+-------+-------+--------+------+------+-------+-------------+-----+--------+\n",
      "|cicid| i94yr|i94mon|i94cit|i94res|i94port|arrdate|i94mode|i94addr|depdate|i94bir|i94visa|count|dtadfile|visapost|occup|entdepa|entdepd|entdepu|matflag|biryear| dtaddto|gender|insnum|airline|       admnum|fltno|visatype|\n",
      "+-----+------+------+------+------+-------+-------+-------+-------+-------+------+-------+-----+--------+--------+-----+-------+-------+-------+-------+-------+--------+------+------+-------+-------------+-----+--------+\n",
      "|  6.0|2016.0|   4.0| 692.0| 692.0|    XXX|20573.0|   null|   null|   null|  37.0|    2.0|  1.0|    null|    null| null|      T|   null|      U|   null| 1979.0|10282016|  null|  null|   null|1.897628485E9| null|      B2|\n",
      "|  7.0|2016.0|   4.0| 254.0| 276.0|    ATL|20551.0|    1.0|     AL|   null|  25.0|    3.0|  1.0|20130811|     SEO| null|      G|   null|      Y|   null| 1991.0|     D/S|     M|  null|   null| 3.73679633E9|00296|      F1|\n",
      "| 15.0|2016.0|   4.0| 101.0| 101.0|    WAS|20545.0|    1.0|     MI|20691.0|  55.0|    2.0|  1.0|20160401|    null| null|      T|      O|   null|      M| 1961.0|09302016|     M|  null|     OS| 6.66643185E8|   93|      B2|\n",
      "+-----+------+------+------+------+-------+-------+-------+-------+-------+------+-------+-----+--------+--------+-----+-------+-------+-------+-------+-------+--------+------+------+-------+-------------+-----+--------+\n",
      "only showing top 3 rows\n",
      "\n"
     ]
    }
   ],
   "source": [
    "immigrationDF.show(3)"
   ]
  },
  {
   "cell_type": "code",
   "execution_count": 11,
   "metadata": {
    "editable": true
   },
   "outputs": [
    {
     "name": "stdout",
     "output_type": "stream",
     "text": [
      "root\n",
      " |-- cicid: double (nullable = true)\n",
      " |-- i94yr: double (nullable = true)\n",
      " |-- i94mon: double (nullable = true)\n",
      " |-- i94cit: double (nullable = true)\n",
      " |-- i94res: double (nullable = true)\n",
      " |-- i94port: string (nullable = true)\n",
      " |-- arrdate: double (nullable = true)\n",
      " |-- i94mode: double (nullable = true)\n",
      " |-- i94addr: string (nullable = true)\n",
      " |-- depdate: double (nullable = true)\n",
      " |-- i94bir: double (nullable = true)\n",
      " |-- i94visa: double (nullable = true)\n",
      " |-- count: double (nullable = true)\n",
      " |-- dtadfile: string (nullable = true)\n",
      " |-- visapost: string (nullable = true)\n",
      " |-- occup: string (nullable = true)\n",
      " |-- entdepa: string (nullable = true)\n",
      " |-- entdepd: string (nullable = true)\n",
      " |-- entdepu: string (nullable = true)\n",
      " |-- matflag: string (nullable = true)\n",
      " |-- biryear: double (nullable = true)\n",
      " |-- dtaddto: string (nullable = true)\n",
      " |-- gender: string (nullable = true)\n",
      " |-- insnum: string (nullable = true)\n",
      " |-- airline: string (nullable = true)\n",
      " |-- admnum: double (nullable = true)\n",
      " |-- fltno: string (nullable = true)\n",
      " |-- visatype: string (nullable = true)\n",
      "\n"
     ]
    }
   ],
   "source": [
    "#immigrationDF = immigrationDF.withColumnRenamed('_c0','immigration_id')\n",
    "immigrationDF.printSchema()\n"
   ]
  },
  {
   "cell_type": "markdown",
   "metadata": {
    "editable": true
   },
   "source": [
    "#### 1.2 Read global land temperature csv. \n",
    "This file contains the average temperature of each month and by city. [Link to source](https://www.kaggle.com/berkeleyearth/climate-change-earth-surface-temperature-data)"
   ]
  },
  {
   "cell_type": "code",
   "execution_count": 13,
   "metadata": {
    "editable": true
   },
   "outputs": [],
   "source": [
    "# read temperature data\n",
    "temperature_fname = \"../../data2/GlobalLandTemperaturesByCity.csv\"\n",
    "fnameTemperature = 'GlobalLandTemperaturesByCity.csv'\n",
    "temperatureDF = spark.read.format(\"csv\").option(\"delimiter\", \",\").option(\"header\", \"true\").load(temperature_fname)"
   ]
  },
  {
   "cell_type": "code",
   "execution_count": 14,
   "metadata": {
    "editable": true
   },
   "outputs": [
    {
     "name": "stdout",
     "output_type": "stream",
     "text": [
      "+----------+------------------+-----------------------------+-----+-------+--------+---------+\n",
      "|        dt|AverageTemperature|AverageTemperatureUncertainty| City|Country|Latitude|Longitude|\n",
      "+----------+------------------+-----------------------------+-----+-------+--------+---------+\n",
      "|1743-11-01|             6.068|           1.7369999999999999|Århus|Denmark|  57.05N|   10.33E|\n",
      "|1743-12-01|              null|                         null|Århus|Denmark|  57.05N|   10.33E|\n",
      "|1744-01-01|              null|                         null|Århus|Denmark|  57.05N|   10.33E|\n",
      "+----------+------------------+-----------------------------+-----+-------+--------+---------+\n",
      "only showing top 3 rows\n",
      "\n"
     ]
    }
   ],
   "source": [
    "temperatureDF.show(3)"
   ]
  },
  {
   "cell_type": "markdown",
   "metadata": {
    "editable": true
   },
   "source": [
    "#### 1.3 Read cities information csv. \n",
    "This file contains demographic information about US cities. This demographic information has some fields as the race, gender majority, median age, etc. [Link to source](https://public.opendatasoft.com/explore/dataset/us-cities-demographics/export/)"
   ]
  },
  {
   "cell_type": "code",
   "execution_count": 109,
   "metadata": {
    "editable": true
   },
   "outputs": [],
   "source": [
    "# read us-cities data\n",
    "usCitiesPath = 'us-cities-demographics.csv'\n",
    "citiesDF = spark.read.format(\"csv\").option(\"delimiter\", \";\").option(\"header\", \"true\").load(usCitiesPath)"
   ]
  },
  {
   "cell_type": "markdown",
   "metadata": {
    "editable": true
   },
   "source": [
    "#### 1.4 Read airport information csv. \n",
    "This file contais airport details as airport code IATA, locations, and other relevant information of each airport. [Link to source](http://ourairports.com/data/airports.csv)\n"
   ]
  },
  {
   "cell_type": "code",
   "execution_count": 16,
   "metadata": {
    "editable": true
   },
   "outputs": [],
   "source": [
    "# read airport-codes data\n",
    "airportPath = 'airport-codes_csv.csv'\n",
    "airportDF = spark.read.format(\"csv\").option(\"delimiter\", \",\").option(\"header\", \"true\").load(airportPath)"
   ]
  },
  {
   "cell_type": "markdown",
   "metadata": {
    "editable": true
   },
   "source": [
    "### Step 2: Explore and Assess the Data\n",
    "#### Explore the Data \n",
    "1. Explore data\n",
    "2. Filter null values of important fields for the future analysis\n",
    "2. Select the proper columns for the data model\n",
    "3. Process and transforming data"
   ]
  },
  {
   "cell_type": "markdown",
   "metadata": {
    "editable": true
   },
   "source": [
    "#### 2.1 Exploring and parsing Immigration data set"
   ]
  },
  {
   "cell_type": "code",
   "execution_count": 25,
   "metadata": {
    "editable": true
   },
   "outputs": [
    {
     "name": "stdout",
     "output_type": "stream",
     "text": [
      "root\n",
      " |-- cicid: double (nullable = true)\n",
      " |-- i94yr: double (nullable = true)\n",
      " |-- i94mon: double (nullable = true)\n",
      " |-- i94cit: double (nullable = true)\n",
      " |-- i94res: double (nullable = true)\n",
      " |-- i94port: string (nullable = true)\n",
      " |-- arrdate: double (nullable = true)\n",
      " |-- i94mode: double (nullable = true)\n",
      " |-- i94addr: string (nullable = true)\n",
      " |-- depdate: double (nullable = true)\n",
      " |-- i94bir: double (nullable = true)\n",
      " |-- i94visa: double (nullable = true)\n",
      " |-- count: double (nullable = true)\n",
      " |-- dtadfile: string (nullable = true)\n",
      " |-- visapost: string (nullable = true)\n",
      " |-- occup: string (nullable = true)\n",
      " |-- entdepa: string (nullable = true)\n",
      " |-- entdepd: string (nullable = true)\n",
      " |-- entdepu: string (nullable = true)\n",
      " |-- matflag: string (nullable = true)\n",
      " |-- biryear: double (nullable = true)\n",
      " |-- dtaddto: string (nullable = true)\n",
      " |-- gender: string (nullable = true)\n",
      " |-- insnum: string (nullable = true)\n",
      " |-- airline: string (nullable = true)\n",
      " |-- admnum: double (nullable = true)\n",
      " |-- fltno: string (nullable = true)\n",
      " |-- visatype: string (nullable = true)\n",
      "\n"
     ]
    }
   ],
   "source": [
    "pd.set_option(\"display.max.columns\", None)\n",
    "immigrationDF.printSchema()"
   ]
  },
  {
   "cell_type": "markdown",
   "metadata": {
    "editable": true
   },
   "source": [
    "For our data model is going to be important the departure date, that match with the column \"depdate\". First of all we are going to filter by no-null values. "
   ]
  },
  {
   "cell_type": "code",
   "execution_count": 26,
   "metadata": {
    "editable": true
   },
   "outputs": [],
   "source": [
    "immigrationDF = immigrationDF.dropna(subset=['depdate'])\n",
    "immigrationDF = immigrationDF.dropna(subset=['arrdate'])"
   ]
  },
  {
   "cell_type": "markdown",
   "metadata": {
    "editable": true
   },
   "source": [
    "Now we are going to procced to filter the data. We do not need several columns. Firstable we are going to remove some columns not needed and afterwards rename the rest of the columns for a better understanding:"
   ]
  },
  {
   "cell_type": "code",
   "execution_count": 29,
   "metadata": {
    "editable": true
   },
   "outputs": [
    {
     "name": "stdout",
     "output_type": "stream",
     "text": [
      "+--------------+-------+------------+------------+----+----------+--------------+----+----+------+-------+-------+-------------+\n",
      "|immigration_id|city_id|country_from|arrival_date|mode|state_code|departure_date|visa| age|gender|biryear|airline|flight_number|\n",
      "+--------------+-------+------------+------------+----+----------+--------------+----+----+------+-------+-------+-------------+\n",
      "|          15.0|    WAS|       101.0|     20545.0| 1.0|        MI|       20691.0| 2.0|55.0|     M| 1961.0|     OS|           93|\n",
      "|          16.0|    NYC|       101.0|     20545.0| 1.0|        MA|       20567.0| 2.0|28.0|  null| 1988.0|     AA|        00199|\n",
      "|          17.0|    NYC|       101.0|     20545.0| 1.0|        MA|       20567.0| 2.0| 4.0|  null| 2012.0|     AA|        00199|\n",
      "+--------------+-------+------------+------------+----+----------+--------------+----+----+------+-------+-------+-------------+\n",
      "only showing top 3 rows\n",
      "\n"
     ]
    }
   ],
   "source": [
    "immigrationDF.show(3)"
   ]
  },
  {
   "cell_type": "code",
   "execution_count": 28,
   "metadata": {
    "editable": true
   },
   "outputs": [
    {
     "name": "stdout",
     "output_type": "stream",
     "text": [
      "(2953856, 13)\n"
     ]
    }
   ],
   "source": [
    "immigrationDF = immigrationDF.select(col(\"cicid\").alias(\"immigration_id\"),\n",
    "                                    col(\"i94port\").alias(\"city_id\"),\n",
    "                                    col(\"i94cit\").alias(\"country_from\"),\n",
    "                                    col(\"arrdate\").alias(\"arrival_date\"),\n",
    "                                    col(\"i94mode\").alias(\"mode\"),\n",
    "                                    col(\"i94addr\").alias(\"state_code\"),\n",
    "                                    col(\"depdate\").alias(\"departure_date\"),\n",
    "                                    col(\"i94visa\").alias(\"visa\"),\n",
    "                                    col(\"i94bir\").alias(\"age\"),\n",
    "                                    col(\"gender\").alias(\"gender\"),\n",
    "                                    col(\"biryear\").alias(\"biryear\"),\n",
    "                                    col(\"airline\").alias(\"airline\"),\n",
    "                                    col(\"fltno\").alias(\"flight_number\"))\n",
    "\n",
    "print((immigrationDF.count(), len(immigrationDF.columns)))\n",
    "\n"
   ]
  },
  {
   "cell_type": "markdown",
   "metadata": {
    "editable": true
   },
   "source": [
    "After that we procced to format date values in columns:\n",
    "\n",
    "- Arrival date\n",
    "- Departure date"
   ]
  },
  {
   "cell_type": "code",
   "execution_count": 30,
   "metadata": {
    "editable": true
   },
   "outputs": [],
   "source": [
    "#parse date\n",
    "@udf(StringType())\n",
    "def sas_date_parser(sas_date):\n",
    "    \"\"\"\n",
    "    parse sas date to datetime format\n",
    "\n",
    "    Args:\n",
    "        sas_date ([type]): [description]\n",
    "\n",
    "    Returns:\n",
    "        datetime format\n",
    "    \"\"\"\n",
    "    if sas_date:\n",
    "        return (datetime(1960, 1, 1).date() + timedelta(sas_date)).isoformat()\n",
    "    else:\n",
    "        return None\n"
   ]
  },
  {
   "cell_type": "code",
   "execution_count": 31,
   "metadata": {
    "editable": true
   },
   "outputs": [],
   "source": [
    "immigrationDF = immigrationDF.withColumn(\"arrival_date\", sas_date_parser(immigrationDF.arrival_date))\n",
    "immigrationDF = immigrationDF.withColumn(\"departure_date\", sas_date_parser(immigrationDF.departure_date))"
   ]
  },
  {
   "cell_type": "code",
   "execution_count": 33,
   "metadata": {
    "editable": true
   },
   "outputs": [
    {
     "data": {
      "text/html": [
       "<div>\n",
       "<style scoped>\n",
       "    .dataframe tbody tr th:only-of-type {\n",
       "        vertical-align: middle;\n",
       "    }\n",
       "\n",
       "    .dataframe tbody tr th {\n",
       "        vertical-align: top;\n",
       "    }\n",
       "\n",
       "    .dataframe thead th {\n",
       "        text-align: right;\n",
       "    }\n",
       "</style>\n",
       "<table border=\"1\" class=\"dataframe\">\n",
       "  <thead>\n",
       "    <tr style=\"text-align: right;\">\n",
       "      <th></th>\n",
       "      <th>immigration_id</th>\n",
       "      <th>city_id</th>\n",
       "      <th>country_from</th>\n",
       "      <th>arrival_date</th>\n",
       "      <th>mode</th>\n",
       "      <th>state_code</th>\n",
       "      <th>departure_date</th>\n",
       "      <th>visa</th>\n",
       "      <th>age</th>\n",
       "      <th>gender</th>\n",
       "      <th>biryear</th>\n",
       "      <th>airline</th>\n",
       "      <th>flight_number</th>\n",
       "    </tr>\n",
       "  </thead>\n",
       "  <tbody>\n",
       "    <tr>\n",
       "      <th>0</th>\n",
       "      <td>15.0</td>\n",
       "      <td>WAS</td>\n",
       "      <td>101.0</td>\n",
       "      <td>2016-04-01</td>\n",
       "      <td>1.0</td>\n",
       "      <td>MI</td>\n",
       "      <td>2016-08-25</td>\n",
       "      <td>2.0</td>\n",
       "      <td>55.0</td>\n",
       "      <td>M</td>\n",
       "      <td>1961.0</td>\n",
       "      <td>OS</td>\n",
       "      <td>93</td>\n",
       "    </tr>\n",
       "    <tr>\n",
       "      <th>1</th>\n",
       "      <td>16.0</td>\n",
       "      <td>NYC</td>\n",
       "      <td>101.0</td>\n",
       "      <td>2016-04-01</td>\n",
       "      <td>1.0</td>\n",
       "      <td>MA</td>\n",
       "      <td>2016-04-23</td>\n",
       "      <td>2.0</td>\n",
       "      <td>28.0</td>\n",
       "      <td>None</td>\n",
       "      <td>1988.0</td>\n",
       "      <td>AA</td>\n",
       "      <td>00199</td>\n",
       "    </tr>\n",
       "    <tr>\n",
       "      <th>2</th>\n",
       "      <td>17.0</td>\n",
       "      <td>NYC</td>\n",
       "      <td>101.0</td>\n",
       "      <td>2016-04-01</td>\n",
       "      <td>1.0</td>\n",
       "      <td>MA</td>\n",
       "      <td>2016-04-23</td>\n",
       "      <td>2.0</td>\n",
       "      <td>4.0</td>\n",
       "      <td>None</td>\n",
       "      <td>2012.0</td>\n",
       "      <td>AA</td>\n",
       "      <td>00199</td>\n",
       "    </tr>\n",
       "    <tr>\n",
       "      <th>3</th>\n",
       "      <td>18.0</td>\n",
       "      <td>NYC</td>\n",
       "      <td>101.0</td>\n",
       "      <td>2016-04-01</td>\n",
       "      <td>1.0</td>\n",
       "      <td>MI</td>\n",
       "      <td>2016-04-11</td>\n",
       "      <td>1.0</td>\n",
       "      <td>57.0</td>\n",
       "      <td>None</td>\n",
       "      <td>1959.0</td>\n",
       "      <td>AZ</td>\n",
       "      <td>00602</td>\n",
       "    </tr>\n",
       "    <tr>\n",
       "      <th>4</th>\n",
       "      <td>19.0</td>\n",
       "      <td>NYC</td>\n",
       "      <td>101.0</td>\n",
       "      <td>2016-04-01</td>\n",
       "      <td>1.0</td>\n",
       "      <td>NJ</td>\n",
       "      <td>2016-04-14</td>\n",
       "      <td>2.0</td>\n",
       "      <td>63.0</td>\n",
       "      <td>None</td>\n",
       "      <td>1953.0</td>\n",
       "      <td>AZ</td>\n",
       "      <td>00602</td>\n",
       "    </tr>\n",
       "  </tbody>\n",
       "</table>\n",
       "</div>"
      ],
      "text/plain": [
       "   immigration_id city_id  country_from arrival_date  mode state_code  \\\n",
       "0            15.0     WAS         101.0   2016-04-01   1.0         MI   \n",
       "1            16.0     NYC         101.0   2016-04-01   1.0         MA   \n",
       "2            17.0     NYC         101.0   2016-04-01   1.0         MA   \n",
       "3            18.0     NYC         101.0   2016-04-01   1.0         MI   \n",
       "4            19.0     NYC         101.0   2016-04-01   1.0         NJ   \n",
       "\n",
       "  departure_date  visa   age gender  biryear airline flight_number  \n",
       "0     2016-08-25   2.0  55.0      M   1961.0      OS            93  \n",
       "1     2016-04-23   2.0  28.0   None   1988.0      AA         00199  \n",
       "2     2016-04-23   2.0   4.0   None   2012.0      AA         00199  \n",
       "3     2016-04-11   1.0  57.0   None   1959.0      AZ         00602  \n",
       "4     2016-04-14   2.0  63.0   None   1953.0      AZ         00602  "
      ]
     },
     "execution_count": 33,
     "metadata": {},
     "output_type": "execute_result"
    }
   ],
   "source": [
    "immigrationDF.limit(5).toPandas()\n"
   ]
  },
  {
   "cell_type": "markdown",
   "metadata": {
    "editable": true
   },
   "source": [
    "Following step would be use the SAS description file to change the numbers of country code, visa a mode, by their categories\n",
    "\n",
    "1. Read SAS description file content"
   ]
  },
  {
   "cell_type": "code",
   "execution_count": 34,
   "metadata": {
    "editable": true
   },
   "outputs": [],
   "source": [
    "i94_sas_label_descriptions_fname = \"I94_SAS_Labels_Descriptions.SAS\"\n",
    "with open(i94_sas_label_descriptions_fname) as f:\n",
    "    lines = f.readlines()\n"
   ]
  },
  {
   "cell_type": "markdown",
   "metadata": {
    "editable": true
   },
   "source": [
    "2. Format the column to be able to parse"
   ]
  },
  {
   "cell_type": "code",
   "execution_count": 35,
   "metadata": {
    "editable": true
   },
   "outputs": [],
   "source": [
    "@udf(IntegerType())\n",
    "def parse_country(x):\n",
    "    return math.trunc(x)"
   ]
  },
  {
   "cell_type": "code",
   "execution_count": 36,
   "metadata": {
    "editable": true
   },
   "outputs": [],
   "source": [
    "\n",
    "immigrationDF = immigrationDF.withColumn('country_from', parse_country(immigrationDF.country_from))\n"
   ]
  },
  {
   "cell_type": "code",
   "execution_count": 37,
   "metadata": {
    "editable": true
   },
   "outputs": [],
   "source": [
    "@udf(StringType())\n",
    "def parse_sas_country_codes(x):\n",
    "    \"\"\"\n",
    "    parse the numeric codes of immigration data source with the SAS description file.\n",
    "    The string return is the name of the country, if there is not information \"no info\" is returned\n",
    "\n",
    "    Args:\n",
    "        x ([type]): [description]\n",
    "\n",
    "    Returns:\n",
    "        [type]: [description]\n",
    "    \"\"\"\n",
    "    x=str(x)\n",
    "    result = [(i) for i in lines[9:298] if i.__contains__(x)]\n",
    "\n",
    "    # there are index that have not description on SAS file\n",
    "    if len(result) != 1: \n",
    "        return \"No info\"\n",
    "    \n",
    "    result = re.search(' \\'(.*?)\\'', result[0])\n",
    "    return result.group(1)"
   ]
  },
  {
   "cell_type": "markdown",
   "metadata": {
    "editable": true
   },
   "source": [
    "3. Use the file to parse the codes"
   ]
  },
  {
   "cell_type": "code",
   "execution_count": 38,
   "metadata": {
    "editable": true
   },
   "outputs": [],
   "source": [
    "# parse country code\n",
    "immigrationDF = immigrationDF.withColumn('country_from', parse_sas_country_codes(immigrationDF.country_from))\n"
   ]
  },
  {
   "cell_type": "markdown",
   "metadata": {
    "editable": true
   },
   "source": [
    "3. Aswell for mode and visa. Implement funtion to parser the value"
   ]
  },
  {
   "cell_type": "code",
   "execution_count": 39,
   "metadata": {
    "editable": true
   },
   "outputs": [],
   "source": [
    "@udf(StringType())\n",
    "def parse_sas_mode(data):\n",
    "    \"\"\"\n",
    "    1 = 'Air'\n",
    "\t2 = 'Sea'\n",
    "\t3 = 'Land'\n",
    "\t9 = 'Not reported'\n",
    "\n",
    "\n",
    "    Args:\n",
    "        data ([type]): [description]\n",
    "    \"\"\"\n",
    "    mode = {1:'Air', 2: 'Sea', 3: 'Land', 9 : 'not reported'}\n",
    "    \n",
    "    if(data in mode):\n",
    "        return mode[data]\n",
    "        \n",
    "    return 'not supported'"
   ]
  },
  {
   "cell_type": "code",
   "execution_count": 40,
   "metadata": {
    "editable": true
   },
   "outputs": [],
   "source": [
    "immigrationDF = immigrationDF.withColumn('mode', parse_sas_mode(immigrationDF.mode))"
   ]
  },
  {
   "cell_type": "code",
   "execution_count": 41,
   "metadata": {
    "editable": true
   },
   "outputs": [],
   "source": [
    "@udf(StringType())\n",
    "def parse_sas_visa(data):\n",
    "    \"\"\"\n",
    "    1: business\n",
    "    2: pleasure\n",
    "    3: student\n",
    "\n",
    "    Args:\n",
    "        data ([type]): [description]\n",
    "    \"\"\"\n",
    "\n",
    "    visa = {1 : 'Business', 2:'Pleasure', 3:'Student'}\n",
    "\n",
    "    if(data in visa):\n",
    "        return visa[data]\n",
    "        \n",
    "    return 'not supported'"
   ]
  },
  {
   "cell_type": "code",
   "execution_count": 42,
   "metadata": {
    "editable": true
   },
   "outputs": [],
   "source": [
    "immigrationDF = immigrationDF.withColumn('visa', parse_sas_visa(immigrationDF.visa))"
   ]
  },
  {
   "cell_type": "code",
   "execution_count": 43,
   "metadata": {
    "editable": true
   },
   "outputs": [
    {
     "data": {
      "text/html": [
       "<div>\n",
       "<style scoped>\n",
       "    .dataframe tbody tr th:only-of-type {\n",
       "        vertical-align: middle;\n",
       "    }\n",
       "\n",
       "    .dataframe tbody tr th {\n",
       "        vertical-align: top;\n",
       "    }\n",
       "\n",
       "    .dataframe thead th {\n",
       "        text-align: right;\n",
       "    }\n",
       "</style>\n",
       "<table border=\"1\" class=\"dataframe\">\n",
       "  <thead>\n",
       "    <tr style=\"text-align: right;\">\n",
       "      <th></th>\n",
       "      <th>immigration_id</th>\n",
       "      <th>city_id</th>\n",
       "      <th>country_from</th>\n",
       "      <th>arrival_date</th>\n",
       "      <th>mode</th>\n",
       "      <th>state_code</th>\n",
       "      <th>departure_date</th>\n",
       "      <th>visa</th>\n",
       "      <th>age</th>\n",
       "      <th>gender</th>\n",
       "      <th>biryear</th>\n",
       "      <th>airline</th>\n",
       "      <th>flight_number</th>\n",
       "    </tr>\n",
       "  </thead>\n",
       "  <tbody>\n",
       "    <tr>\n",
       "      <th>0</th>\n",
       "      <td>15.0</td>\n",
       "      <td>WAS</td>\n",
       "      <td>ALBANIA</td>\n",
       "      <td>2016-04-01</td>\n",
       "      <td>Air</td>\n",
       "      <td>MI</td>\n",
       "      <td>2016-08-25</td>\n",
       "      <td>Pleasure</td>\n",
       "      <td>55.0</td>\n",
       "      <td>M</td>\n",
       "      <td>1961.0</td>\n",
       "      <td>OS</td>\n",
       "      <td>93</td>\n",
       "    </tr>\n",
       "    <tr>\n",
       "      <th>1</th>\n",
       "      <td>16.0</td>\n",
       "      <td>NYC</td>\n",
       "      <td>ALBANIA</td>\n",
       "      <td>2016-04-01</td>\n",
       "      <td>Air</td>\n",
       "      <td>MA</td>\n",
       "      <td>2016-04-23</td>\n",
       "      <td>Pleasure</td>\n",
       "      <td>28.0</td>\n",
       "      <td>None</td>\n",
       "      <td>1988.0</td>\n",
       "      <td>AA</td>\n",
       "      <td>00199</td>\n",
       "    </tr>\n",
       "    <tr>\n",
       "      <th>2</th>\n",
       "      <td>17.0</td>\n",
       "      <td>NYC</td>\n",
       "      <td>ALBANIA</td>\n",
       "      <td>2016-04-01</td>\n",
       "      <td>Air</td>\n",
       "      <td>MA</td>\n",
       "      <td>2016-04-23</td>\n",
       "      <td>Pleasure</td>\n",
       "      <td>4.0</td>\n",
       "      <td>None</td>\n",
       "      <td>2012.0</td>\n",
       "      <td>AA</td>\n",
       "      <td>00199</td>\n",
       "    </tr>\n",
       "    <tr>\n",
       "      <th>3</th>\n",
       "      <td>18.0</td>\n",
       "      <td>NYC</td>\n",
       "      <td>ALBANIA</td>\n",
       "      <td>2016-04-01</td>\n",
       "      <td>Air</td>\n",
       "      <td>MI</td>\n",
       "      <td>2016-04-11</td>\n",
       "      <td>Business</td>\n",
       "      <td>57.0</td>\n",
       "      <td>None</td>\n",
       "      <td>1959.0</td>\n",
       "      <td>AZ</td>\n",
       "      <td>00602</td>\n",
       "    </tr>\n",
       "    <tr>\n",
       "      <th>4</th>\n",
       "      <td>19.0</td>\n",
       "      <td>NYC</td>\n",
       "      <td>ALBANIA</td>\n",
       "      <td>2016-04-01</td>\n",
       "      <td>Air</td>\n",
       "      <td>NJ</td>\n",
       "      <td>2016-04-14</td>\n",
       "      <td>Pleasure</td>\n",
       "      <td>63.0</td>\n",
       "      <td>None</td>\n",
       "      <td>1953.0</td>\n",
       "      <td>AZ</td>\n",
       "      <td>00602</td>\n",
       "    </tr>\n",
       "  </tbody>\n",
       "</table>\n",
       "</div>"
      ],
      "text/plain": [
       "   immigration_id city_id country_from arrival_date mode state_code  \\\n",
       "0            15.0     WAS      ALBANIA   2016-04-01  Air         MI   \n",
       "1            16.0     NYC      ALBANIA   2016-04-01  Air         MA   \n",
       "2            17.0     NYC      ALBANIA   2016-04-01  Air         MA   \n",
       "3            18.0     NYC      ALBANIA   2016-04-01  Air         MI   \n",
       "4            19.0     NYC      ALBANIA   2016-04-01  Air         NJ   \n",
       "\n",
       "  departure_date      visa   age gender  biryear airline flight_number  \n",
       "0     2016-08-25  Pleasure  55.0      M   1961.0      OS            93  \n",
       "1     2016-04-23  Pleasure  28.0   None   1988.0      AA         00199  \n",
       "2     2016-04-23  Pleasure   4.0   None   2012.0      AA         00199  \n",
       "3     2016-04-11  Business  57.0   None   1959.0      AZ         00602  \n",
       "4     2016-04-14  Pleasure  63.0   None   1953.0      AZ         00602  "
      ]
     },
     "execution_count": 43,
     "metadata": {},
     "output_type": "execute_result"
    }
   ],
   "source": [
    "immigrationDF.limit(5).toPandas()"
   ]
  },
  {
   "cell_type": "markdown",
   "metadata": {
    "editable": true
   },
   "source": [
    "#### 2.2 Exploring and parsing Temperature data set"
   ]
  },
  {
   "cell_type": "markdown",
   "metadata": {
    "editable": true
   },
   "source": [
    "#### Cleaning Steps\n",
    "Document steps necessary to clean the data"
   ]
  },
  {
   "cell_type": "code",
   "execution_count": 44,
   "metadata": {
    "editable": true
   },
   "outputs": [],
   "source": [
    "number_rows_before_clean = (temperatureDF.count())"
   ]
  },
  {
   "cell_type": "markdown",
   "metadata": {
    "editable": true
   },
   "source": [
    "There are certain data that we have to ensure we have due to its importance. In that case would be columns: AverageTemperature, dt, City. With a null value among these values, the row is not going to be usefull. So we ensure removing those rows."
   ]
  },
  {
   "cell_type": "code",
   "execution_count": 45,
   "metadata": {
    "editable": true
   },
   "outputs": [
    {
     "name": "stdout",
     "output_type": "stream",
     "text": [
      "Rows removed 364130\n"
     ]
    }
   ],
   "source": [
    "temperatureDF = temperatureDF.dropna(subset=['AverageTemperature', 'dt', 'City', 'Country'],how='any')\n",
    "number_rows_after_clean = (temperatureDF.count())\n",
    "print('Rows removed',number_rows_before_clean-number_rows_after_clean)"
   ]
  },
  {
   "cell_type": "markdown",
   "metadata": {
    "editable": true
   },
   "source": [
    "Removed columns not needed: Latitude, Longitude, Country, AverageTemperatureUncertainty"
   ]
  },
  {
   "cell_type": "code",
   "execution_count": 46,
   "metadata": {
    "editable": true
   },
   "outputs": [],
   "source": [
    "temperatureDF = temperatureDF.drop('Latitude', 'Longitude', 'AverageTemperatureUncertainty')"
   ]
  },
  {
   "cell_type": "markdown",
   "metadata": {
    "editable": true
   },
   "source": [
    "Upper case country to match this value with immigradition country data"
   ]
  },
  {
   "cell_type": "code",
   "execution_count": 47,
   "metadata": {
    "editable": true
   },
   "outputs": [],
   "source": [
    "@udf(StringType())\n",
    "def uppercase(x):\n",
    "    return str(x).upper()"
   ]
  },
  {
   "cell_type": "code",
   "execution_count": 48,
   "metadata": {
    "editable": true
   },
   "outputs": [],
   "source": [
    "temperatureDF = temperatureDF.withColumn(\"Country\", uppercase(temperatureDF.Country))\n"
   ]
  },
  {
   "cell_type": "markdown",
   "metadata": {
    "editable": true
   },
   "source": [
    "We are going to group all data from each country by date. With this change we are going to remove city field, and make an average temperature of all cities of the country for each date. The reason to do that is that in immigration data we do not have city_from information, but we have country_from, so later in analytics we can comapre temperature from original country and United Stated."
   ]
  },
  {
   "cell_type": "code",
   "execution_count": 49,
   "metadata": {
    "editable": true
   },
   "outputs": [],
   "source": [
    "temperatureDF = temperatureDF.drop(\"City\")"
   ]
  },
  {
   "cell_type": "code",
   "execution_count": 50,
   "metadata": {
    "editable": true
   },
   "outputs": [],
   "source": [
    "temperatureDF = temperatureDF.withColumn(\"AverageTemperature\",col(\"AverageTemperature\").cast(\"int\"))\n",
    "# group by country and date\n",
    "temperatureDF = temperatureDF.groupby(['Country','dt']).mean('AverageTemperature')\n",
    "temperatureDF = temperatureDF.orderBy(asc('Country'))"
   ]
  },
  {
   "cell_type": "code",
   "execution_count": 52,
   "metadata": {
    "editable": true
   },
   "outputs": [
    {
     "data": {
      "text/html": [
       "<div>\n",
       "<style scoped>\n",
       "    .dataframe tbody tr th:only-of-type {\n",
       "        vertical-align: middle;\n",
       "    }\n",
       "\n",
       "    .dataframe tbody tr th {\n",
       "        vertical-align: top;\n",
       "    }\n",
       "\n",
       "    .dataframe thead th {\n",
       "        text-align: right;\n",
       "    }\n",
       "</style>\n",
       "<table border=\"1\" class=\"dataframe\">\n",
       "  <thead>\n",
       "    <tr style=\"text-align: right;\">\n",
       "      <th></th>\n",
       "      <th>Country</th>\n",
       "      <th>dt</th>\n",
       "      <th>avg(AverageTemperature)</th>\n",
       "    </tr>\n",
       "  </thead>\n",
       "  <tbody>\n",
       "    <tr>\n",
       "      <th>0</th>\n",
       "      <td>AFGHANISTAN</td>\n",
       "      <td>1846-11-01</td>\n",
       "      <td>6.142857</td>\n",
       "    </tr>\n",
       "    <tr>\n",
       "      <th>1</th>\n",
       "      <td>AFGHANISTAN</td>\n",
       "      <td>1910-12-01</td>\n",
       "      <td>-0.500000</td>\n",
       "    </tr>\n",
       "    <tr>\n",
       "      <th>2</th>\n",
       "      <td>AFGHANISTAN</td>\n",
       "      <td>1852-06-01</td>\n",
       "      <td>23.375000</td>\n",
       "    </tr>\n",
       "    <tr>\n",
       "      <th>3</th>\n",
       "      <td>AFGHANISTAN</td>\n",
       "      <td>1863-03-01</td>\n",
       "      <td>7.500000</td>\n",
       "    </tr>\n",
       "    <tr>\n",
       "      <th>4</th>\n",
       "      <td>AFGHANISTAN</td>\n",
       "      <td>1878-04-01</td>\n",
       "      <td>12.625000</td>\n",
       "    </tr>\n",
       "  </tbody>\n",
       "</table>\n",
       "</div>"
      ],
      "text/plain": [
       "       Country          dt  avg(AverageTemperature)\n",
       "0  AFGHANISTAN  1846-11-01                 6.142857\n",
       "1  AFGHANISTAN  1910-12-01                -0.500000\n",
       "2  AFGHANISTAN  1852-06-01                23.375000\n",
       "3  AFGHANISTAN  1863-03-01                 7.500000\n",
       "4  AFGHANISTAN  1878-04-01                12.625000"
      ]
     },
     "execution_count": 52,
     "metadata": {},
     "output_type": "execute_result"
    }
   ],
   "source": [
    "temperatureDF.limit(5).toPandas()"
   ]
  },
  {
   "cell_type": "markdown",
   "metadata": {
    "editable": true
   },
   "source": [
    "#### 2.3 Exploring and parsing Cities dataset"
   ]
  },
  {
   "cell_type": "markdown",
   "metadata": {
    "editable": true
   },
   "source": [
    "1. Firstable check null values to clean up."
   ]
  },
  {
   "cell_type": "code",
   "execution_count": 181,
   "metadata": {
    "editable": true
   },
   "outputs": [],
   "source": [
    "citiesDF = spark.read.format(\"csv\").option(\"delimiter\", \";\").option(\"header\", \"true\").load(usCitiesPath)"
   ]
  },
  {
   "cell_type": "code",
   "execution_count": 182,
   "metadata": {
    "editable": true
   },
   "outputs": [
    {
     "name": "stdout",
     "output_type": "stream",
     "text": [
      "root\n",
      " |-- City: string (nullable = true)\n",
      " |-- State: string (nullable = true)\n",
      " |-- Median Age: string (nullable = true)\n",
      " |-- Male Population: string (nullable = true)\n",
      " |-- Female Population: string (nullable = true)\n",
      " |-- Total Population: string (nullable = true)\n",
      " |-- Number of Veterans: string (nullable = true)\n",
      " |-- Foreign-born: string (nullable = true)\n",
      " |-- Average Household Size: string (nullable = true)\n",
      " |-- State Code: string (nullable = true)\n",
      " |-- Race: string (nullable = true)\n",
      " |-- Count: string (nullable = true)\n",
      "\n"
     ]
    }
   ],
   "source": [
    "citiesDF.printSchema()"
   ]
  },
  {
   "cell_type": "markdown",
   "metadata": {
    "editable": true
   },
   "source": [
    "Select columns to remove"
   ]
  },
  {
   "cell_type": "code",
   "execution_count": 183,
   "metadata": {
    "editable": true
   },
   "outputs": [],
   "source": [
    "citiesDF = citiesDF.drop('Number of Veterans', 'Foreign-born', 'Average Household Size', 'Race', 'Count')\n"
   ]
  },
  {
   "cell_type": "code",
   "execution_count": 184,
   "metadata": {
    "editable": true
   },
   "outputs": [],
   "source": [
    "citiesDF = citiesDF.select(col('City').alias('City'),\n",
    "                            col('State').alias('State'),\n",
    "                            col('Median Age').alias('Median_age'),\n",
    "                            col('Male Population').alias('Male_Population'),\n",
    "                            col('Female Population').alias('Female_Population'),\n",
    "                            col('Total Population').alias('Total_Population'),\n",
    "                            col('State Code').alias('State_code'))"
   ]
  },
  {
   "cell_type": "code",
   "execution_count": 185,
   "metadata": {
    "editable": true
   },
   "outputs": [
    {
     "data": {
      "text/plain": [
       "['City',\n",
       " 'State',\n",
       " 'Median_age',\n",
       " 'Male_Population',\n",
       " 'Female_Population',\n",
       " 'Total_Population',\n",
       " 'State_code']"
      ]
     },
     "execution_count": 185,
     "metadata": {},
     "output_type": "execute_result"
    }
   ],
   "source": [
    "citiesDF.columns"
   ]
  },
  {
   "cell_type": "markdown",
   "metadata": {
    "editable": true
   },
   "source": [
    "Add some statistics about the gender population"
   ]
  },
  {
   "cell_type": "code",
   "execution_count": 186,
   "metadata": {
    "editable": true
   },
   "outputs": [],
   "source": [
    "@udf(StringType())\n",
    "def get_proportion(a,b):\n",
    "    \"\"\"\n",
    "    calcule the percentage between argument a and b\n",
    "    it is used to know the percentage of male / female on the total population\n",
    "\n",
    "    Returns:\n",
    "        [int]: percentage\n",
    "    \"\"\"\n",
    "    a = int(a or 0)\n",
    "    b = int(b or 0)\n",
    "    if not math.isnan(a) and not math.isnan(b):\n",
    "        return (a)/(b)*100\n",
    "    else:\n",
    "        return 0"
   ]
  },
  {
   "cell_type": "code",
   "execution_count": 187,
   "metadata": {
    "editable": true
   },
   "outputs": [],
   "source": [
    "# convert types tu numeric\n",
    "citiesDF = citiesDF.withColumn(\"Median_age\",col(\"Median_age\").cast(\"int\"))\n",
    "citiesDF = citiesDF.withColumn(\"Male_Population\",col(\"Male_Population\").cast(\"int\"))\n",
    "citiesDF = citiesDF.withColumn(\"Female_Population\",col(\"Female_Population\").cast(\"int\"))\n",
    "citiesDF = citiesDF.withColumn(\"Total_Population\",col(\"Total_Population\").cast(\"int\"))\n"
   ]
  },
  {
   "cell_type": "code",
   "execution_count": 188,
   "metadata": {
    "editable": true
   },
   "outputs": [],
   "source": [
    "citiesDF = citiesDF.withColumn(\"Male_percentage\", get_proportion(citiesDF['Male_Population'].cast(\"int\"),citiesDF['Total_Population'].cast(\"int\")))\n",
    "citiesDF = citiesDF.withColumn(\"Female_percentage\", get_proportion(citiesDF['Female_Population'],citiesDF['Total_Population']))"
   ]
  },
  {
   "cell_type": "markdown",
   "metadata": {
    "editable": true
   },
   "source": [
    "Uppercase state values"
   ]
  },
  {
   "cell_type": "code",
   "execution_count": 189,
   "metadata": {
    "editable": true
   },
   "outputs": [],
   "source": [
    "citiesDF = citiesDF.withColumn('State',uppercase(citiesDF.State))"
   ]
  },
  {
   "cell_type": "code",
   "execution_count": 190,
   "metadata": {
    "editable": true
   },
   "outputs": [
    {
     "name": "stdout",
     "output_type": "stream",
     "text": [
      "root\n",
      " |-- City: string (nullable = true)\n",
      " |-- State: string (nullable = true)\n",
      " |-- Median_age: integer (nullable = true)\n",
      " |-- Male_Population: integer (nullable = true)\n",
      " |-- Female_Population: integer (nullable = true)\n",
      " |-- Total_Population: integer (nullable = true)\n",
      " |-- State_code: string (nullable = true)\n",
      " |-- Male_percentage: string (nullable = true)\n",
      " |-- Female_percentage: string (nullable = true)\n",
      "\n"
     ]
    }
   ],
   "source": [
    "citiesDF.printSchema()"
   ]
  },
  {
   "cell_type": "markdown",
   "metadata": {
    "editable": true
   },
   "source": [
    "In immigration data we do not have information about the city of destiny, but we have the state code, so we are going to work we that value, remove city name, and do the average of all date per state code."
   ]
  },
  {
   "cell_type": "code",
   "execution_count": 191,
   "metadata": {
    "editable": true
   },
   "outputs": [],
   "source": [
    "citiesDF = citiesDF.drop('City')\n",
    "citiesDF = citiesDF.withColumn(\"Male_percentage\",col(\"Male_percentage\").cast(\"int\"))\n",
    "citiesDF = citiesDF.withColumn(\"Female_percentage\",col(\"Female_percentage\").cast(\"int\"))\n",
    "citiesDF = citiesDF.groupby(['State', 'State_Code']).mean('Median_age', 'Male_Population', 'Female_Population', 'Total_Population', 'Male_percentage', 'Female_percentage')"
   ]
  },
  {
   "cell_type": "code",
   "execution_count": 192,
   "metadata": {
    "editable": true
   },
   "outputs": [
    {
     "name": "stdout",
     "output_type": "stream",
     "text": [
      "root\n",
      " |-- State: string (nullable = true)\n",
      " |-- State_Code: string (nullable = true)\n",
      " |-- avg(Median_age): double (nullable = true)\n",
      " |-- avg(Male_Population): double (nullable = true)\n",
      " |-- avg(Female_Population): double (nullable = true)\n",
      " |-- avg(Total_Population): double (nullable = true)\n",
      " |-- avg(Male_percentage): double (nullable = true)\n",
      " |-- avg(Female_percentage): double (nullable = true)\n",
      "\n"
     ]
    }
   ],
   "source": [
    "citiesDF.printSchema()"
   ]
  },
  {
   "cell_type": "code",
   "execution_count": 193,
   "metadata": {
    "editable": true
   },
   "outputs": [
    {
     "name": "stdout",
     "output_type": "stream",
     "text": [
      "+----------+----------+-----------------+--------------------+----------------------+---------------------+--------------------+----------------------+\n",
      "|     State|State_Code|  avg(Median_age)|avg(Male_Population)|avg(Female_Population)|avg(Total_Population)|avg(Male_percentage)|avg(Female_percentage)|\n",
      "+----------+----------+-----------------+--------------------+----------------------+---------------------+--------------------+----------------------+\n",
      "|NEW MEXICO|        NM|             37.5|            102252.5|              107508.0|             209760.5|               48.25|                 50.75|\n",
      "|  ILLINOIS|        IL|35.23076923076923|  120262.24175824175|    127148.63736263737|    247410.8791208791|   48.37362637362637|     50.62637362637363|\n",
      "| MINNESOTA|        MN|35.05555555555556|   64422.27777777778|     66025.22222222222|             130447.5|  48.388888888888886|    50.611111111111114|\n",
      "|CALIFORNIA|        CA|35.69970414201183|   90319.04142011834|     92290.94822485207|   182609.98964497042|   48.87278106508876|     50.12721893491124|\n",
      "|  MARYLAND|        MD|             35.8|             62795.1|               68417.8|             131212.9|                47.6|                  51.4|\n",
      "+----------+----------+-----------------+--------------------+----------------------+---------------------+--------------------+----------------------+\n",
      "only showing top 5 rows\n",
      "\n"
     ]
    }
   ],
   "source": [
    "citiesDF.show(5)"
   ]
  },
  {
   "cell_type": "markdown",
   "metadata": {
    "editable": true
   },
   "source": [
    "### Step 3: Define the Data Model\n",
    "#### 3.1 Conceptual Data Model\n"
   ]
  },
  {
   "cell_type": "markdown",
   "metadata": {
    "editable": true
   },
   "source": [
    "The final data model is build by 3 differents data sources: immigration, temperature and cities data.\n",
    "With all this data we can build the following data model:\n",
    "\n",
    "![dataModel](img/dataModel-FACT-MODEL1.png)\n",
    "\n",
    "\n",
    "This data model is made by 5 tables. This star schema is build from the fact table:\n",
    "- Immigration\n",
    "\n",
    "4 dimension tables:\n",
    "- City\n",
    "- Airline\n",
    "- Personal\n",
    "- Temperature\n",
    "\n",
    "\n",
    "This data model breakdown most part of immigration source data, for a easy understanding. Also the rest of sources are filtered, clean and transformed based on the immigration data. All these make a star schema, where it would be very easily analyze personal information, temperature where the traveler comes, but also demographic information of the state that visit the tourist.\n"
   ]
  },
  {
   "cell_type": "markdown",
   "metadata": {
    "editable": true
   },
   "source": [
    "\n",
    "#### 3.2 Mapping Out Data Pipelines\n",
    "List the steps necessary to pipeline the data into the chosen data model"
   ]
  },
  {
   "cell_type": "markdown",
   "metadata": {
    "editable": true
   },
   "source": [
    "1. Load data from sources.\n",
    "2. Analyze, and clean data from nulls values.\n",
    "3. Transform some data types.\n",
    "4. Remove not necessary data.\n",
    "5. Create fact and dimesion tables.\n",
    "6. Save tables in parquet for downstream query \n",
    "7. Check quality data."
   ]
  },
  {
   "cell_type": "markdown",
   "metadata": {
    "editable": true
   },
   "source": [
    "### Step 4: Run Pipelines to Model the Data \n",
    "#### 4.1 Create the data model\n",
    "Build the data pipelines to create the data model."
   ]
  },
  {
   "cell_type": "markdown",
   "metadata": {
    "editable": true
   },
   "source": [
    "4.2 Create Personal dataframe"
   ]
  },
  {
   "cell_type": "code",
   "execution_count": 194,
   "metadata": {
    "editable": true
   },
   "outputs": [
    {
     "data": {
      "text/plain": [
       "['immigration_id',\n",
       " 'city_id',\n",
       " 'country_from',\n",
       " 'arrival_date',\n",
       " 'mode',\n",
       " 'state_code',\n",
       " 'departure_date',\n",
       " 'visa',\n",
       " 'age',\n",
       " 'gender',\n",
       " 'biryear',\n",
       " 'airline',\n",
       " 'flight_number']"
      ]
     },
     "execution_count": 194,
     "metadata": {},
     "output_type": "execute_result"
    }
   ],
   "source": [
    "immigrationDF.columns"
   ]
  },
  {
   "cell_type": "code",
   "execution_count": 195,
   "metadata": {
    "editable": true
   },
   "outputs": [],
   "source": [
    "personal_table = immigrationDF.select(col('immigration_id'),col('gender'), col('age'), col('country_from'), col('biryear'))"
   ]
  },
  {
   "cell_type": "markdown",
   "metadata": {
    "editable": true
   },
   "source": [
    "4.3 Create City dataframe"
   ]
  },
  {
   "cell_type": "code",
   "execution_count": 196,
   "metadata": {
    "editable": true
   },
   "outputs": [
    {
     "data": {
      "text/plain": [
       "['State',\n",
       " 'State_Code',\n",
       " 'avg(Median_age)',\n",
       " 'avg(Male_Population)',\n",
       " 'avg(Female_Population)',\n",
       " 'avg(Total_Population)',\n",
       " 'avg(Male_percentage)',\n",
       " 'avg(Female_percentage)']"
      ]
     },
     "execution_count": 196,
     "metadata": {},
     "output_type": "execute_result"
    }
   ],
   "source": [
    "citiesDF.columns"
   ]
  },
  {
   "cell_type": "code",
   "execution_count": 197,
   "metadata": {
    "editable": true
   },
   "outputs": [],
   "source": [
    "cities_table = citiesDF.select(col('State'),col('avg(Median_age)').alias('Median_Age'), col('avg(Male_Population)').alias('Male_Population'), col('avg(Female_Population)').alias('Female_Population'),\n",
    "       col('avg(Total_Population)').alias('Total_Population'), col('State_Code'), col('avg(Male_percentage)').alias('Male_percentage'), col('avg(Female_percentage)').alias('Female_percentage'))\n"
   ]
  },
  {
   "cell_type": "markdown",
   "metadata": {
    "editable": true
   },
   "source": [
    "4.4 Create Airline dataframe"
   ]
  },
  {
   "cell_type": "code",
   "execution_count": 198,
   "metadata": {
    "editable": true
   },
   "outputs": [],
   "source": [
    "#trip_immigration_id, airline_name, flight_number\n",
    "airline_table = immigrationDF.select(col('immigration_id'), col('airline'), col('flight_number'))"
   ]
  },
  {
   "cell_type": "markdown",
   "metadata": {
    "editable": true
   },
   "source": [
    "4.5 Create Temperature dataframe"
   ]
  },
  {
   "cell_type": "code",
   "execution_count": 214,
   "metadata": {
    "editable": true
   },
   "outputs": [],
   "source": [
    "temperature_table = temperatureDF.select(col('dt'), col('avg(AverageTemperature)').alias('AverageTemperature'),  col('Country'))"
   ]
  },
  {
   "cell_type": "markdown",
   "metadata": {
    "editable": true
   },
   "source": [
    "Add a id for each row"
   ]
  },
  {
   "cell_type": "code",
   "execution_count": 216,
   "metadata": {
    "editable": true
   },
   "outputs": [
    {
     "data": {
      "text/plain": [
       "['dt', 'AverageTemperature', 'Country']"
      ]
     },
     "execution_count": 216,
     "metadata": {},
     "output_type": "execute_result"
    }
   ],
   "source": [
    "temperature_table.columns"
   ]
  },
  {
   "cell_type": "code",
   "execution_count": 221,
   "metadata": {
    "editable": true
   },
   "outputs": [],
   "source": [
    "#temperature_table['temp_id'] = np.arange(temperature_table.shape[0]) \n",
    "temperatureDF = temperatureDF.withColumn(\"temp_id\", monotonically_increasing_id())\n",
    "temperature_table = temperature_table.withColumn(\"temp_id\", monotonically_increasing_id())"
   ]
  },
  {
   "cell_type": "code",
   "execution_count": 222,
   "metadata": {
    "editable": true
   },
   "outputs": [
    {
     "data": {
      "text/plain": [
       "['dt', 'AverageTemperature', 'Country', 'temp_id']"
      ]
     },
     "execution_count": 222,
     "metadata": {},
     "output_type": "execute_result"
    }
   ],
   "source": [
    "temperature_table.columns"
   ]
  },
  {
   "cell_type": "markdown",
   "metadata": {
    "editable": true
   },
   "source": [
    "4.6 Create Immigration dataframe"
   ]
  },
  {
   "cell_type": "code",
   "execution_count": 223,
   "metadata": {
    "editable": true
   },
   "outputs": [],
   "source": [
    "immigration_table = immigrationDF.select(col('immigration_id'), col('state_code'), col('arrival_date'), col('departure_date'), col('mode'), col('visa'))"
   ]
  },
  {
   "cell_type": "markdown",
   "metadata": {
    "editable": true
   },
   "source": [
    "Associate temp_id of temperature table, based on the country of turist, and the date of arrival to the country"
   ]
  },
  {
   "cell_type": "code",
   "execution_count": 224,
   "metadata": {
    "editable": true
   },
   "outputs": [],
   "source": [
    "immigration_table = immigration_table.withColumn('arrival_date', to_timestamp(immigration_table.arrival_date)) \n",
    "temperature_table = temperature_table.withColumn('dt', to_timestamp(temperature_table.dt)) "
   ]
  },
  {
   "cell_type": "code",
   "execution_count": 225,
   "metadata": {
    "editable": true
   },
   "outputs": [],
   "source": [
    "def get_temp_id(immi_id, date):\n",
    "    \"\"\"\n",
    "    return the temp id of the temperature id that match with the country of origin of the tourist and also the arrival date to United States\n",
    "\n",
    "    Args:\n",
    "        immi_id ([type]): [description]\n",
    "        date ([type]): [description]\n",
    "\n",
    "    Returns:\n",
    "        [type]: [description]\n",
    "    \"\"\"\n",
    "    country = personal_table[personal_table['immigration_id']==immi_id]['country_from']\n",
    "    year = date.year\n",
    "    month = date.month\n",
    "    \n",
    "    id = temperature_table['temp_id'][temperature_table['dt'].dt.year==year][temperature_table['dt'].dt.month==month][temperature_table['Country']==country]\n",
    "    \n",
    "    return str(id)"
   ]
  },
  {
   "cell_type": "code",
   "execution_count": 226,
   "metadata": {
    "editable": true
   },
   "outputs": [],
   "source": [
    "immigration_table = immigration_table.withColumn('tem_id', lit(get_temp_id(immigration_table['immigration_id'], immigration_table['arrival_date'])))\n"
   ]
  },
  {
   "cell_type": "markdown",
   "metadata": {
    "editable": true
   },
   "source": [
    "### Write to parquet files"
   ]
  },
  {
   "cell_type": "code",
   "execution_count": 207,
   "metadata": {
    "editable": true
   },
   "outputs": [],
   "source": [
    "immigration_table.write.mode(\"overwrite\").parquet(\"immigration\")\n"
   ]
  },
  {
   "cell_type": "code",
   "execution_count": 208,
   "metadata": {
    "editable": true
   },
   "outputs": [],
   "source": [
    "personal_table.write.mode(\"overwrite\").parquet(\"personal\")\n"
   ]
  },
  {
   "cell_type": "code",
   "execution_count": 227,
   "metadata": {
    "editable": true
   },
   "outputs": [],
   "source": [
    "temperature_table.write.mode(\"overwrite\").parquet(\"temperature\")"
   ]
  },
  {
   "cell_type": "code",
   "execution_count": 210,
   "metadata": {
    "editable": true
   },
   "outputs": [],
   "source": [
    "cities_table.write.mode(\"overwrite\").parquet(\"city\")"
   ]
  },
  {
   "cell_type": "markdown",
   "metadata": {
    "editable": true
   },
   "source": [
    "#### 4.2 Data Quality Checks\n"
   ]
  },
  {
   "cell_type": "markdown",
   "metadata": {
    "editable": true
   },
   "source": [
    "There is several data quality check, all of them are on a specific file call: Data_quality.ipynb.\n",
    "\n",
    "1. Check every table has been stored: this is usefull to know firstable if there was any error during ETL, and later to check the schema match with the data model designed.\n",
    "2. Check there is any table empty: If the table is empty, it is very likely that an error could happen running the pipeline.\n",
    "3. Check there is not a immigration_id duplicated: Once that we are sure that the tables are well build and fill. We can check if there is any primary key duplicated, very important check.\n",
    "\n",
    "Refer to \"data_quality\" file to run this test"
   ]
  },
  {
   "cell_type": "markdown",
   "metadata": {
    "editable": true
   },
   "source": [
    "#### 4.3 Data dictionary \n",
    "In the following tables are described the dimension and fact table. Also every field of the tables has a description explaining the meaning of it."
   ]
  },
  {
   "cell_type": "markdown",
   "metadata": {
    "editable": true
   },
   "source": [
    "FACT TABLE: IMMIGRATION\n",
    "\n",
    "| Data field | Description |\n",
    "| --- | --- |\n",
    "| immigration_id | Immigration identifier, it's the PRIMARY KEY for every entrance |\n",
    "| state_code | State code where the person is getting in |\n",
    "| arrival_date | Date of arrival of the trip |\n",
    "| departure_date | Date of departure of the trip |\n",
    "| mode | Mean the mode of entry to the country (air, sea, ground)|\n",
    "| visa | Mean the visa type, it could by business, pleasure, student|\n",
    "| temp_id | id related to temperature dimension table. It is realted to a row that show the average temperature of the country of origin |"
   ]
  },
  {
   "cell_type": "markdown",
   "metadata": {
    "editable": true
   },
   "source": [
    "DIMENSION TABLE: PERSONAL\n",
    "\n",
    "| Data field | Description |\n",
    "| --- | --- |\n",
    "| immigration_id | identifier related to primary key of immigration table |\n",
    "| gender | Gender of the person. Male/female. |\n",
    "| age | Age at the moment of the entry |\n",
    "| country_from | Country of origin of the traveler |\n",
    "| biryear | Birth year of the traveler |\n"
   ]
  },
  {
   "cell_type": "markdown",
   "metadata": {
    "editable": true
   },
   "source": [
    "DIMENSION TABLE: TEMPERATURE\n",
    "\n",
    "| Data field | Description |\n",
    "| --- | --- |\n",
    "| temp_id | Unique ID, for each date and country. |\n",
    "| dt | Date time value of the moment of the temperature |\n",
    "| AverageTemperature | Average temperature of all cities of the country for a certain month |\n",
    "| Country | Country where the temperature has been measure |\n",
    "\n"
   ]
  },
  {
   "cell_type": "markdown",
   "metadata": {
    "editable": true
   },
   "source": [
    "DIMENSION TABLE: CITY\n",
    "\n",
    "| Data field | Description |\n",
    "| --- | --- |\n",
    "| State | Name of the state to visit |\n",
    "| Meadian Age | Median age of the state |\n",
    "| Male Population | Number of men in the state |\n",
    "| Male Percentage | Percentage of men |\n",
    "| Female Percentage | Percentage of female |\n",
    "| Female Population | Number of female in the state  |\n",
    "| Total Population | Total population of the sate |\n",
    "| State Code | State code |\n",
    "\n",
    "\n"
   ]
  },
  {
   "cell_type": "markdown",
   "metadata": {
    "editable": true
   },
   "source": [
    "DIMENSION TABLE: AIRLINE\n",
    "\n",
    "| Data field | Description |\n",
    "| --- | --- |\n",
    "| immigration_id | Immigrant ID who takes the flight |\n",
    "| airline | Airline of flight service |\n",
    "| flight_number | Flight number of the airline |\n"
   ]
  },
  {
   "cell_type": "markdown",
   "metadata": {
    "editable": true
   },
   "source": [
    "#### Step 5: Complete Project Write Up\n",
    "* Clearly state the rationale for the choice of tools and technologies for the project.\n",
    "\n",
    "We have chosen top-notch technologies that work in the cloud. Specifically, we have used AWS, and several services of it, as it could be S3, and Amazon Redshift as a datawarehouse.\n",
    "Also, Spark is heavily used, always thinking in massive amount of data, with Spark we could execute code in parallel due to how its works and it is designed for big data.\n",
    "\n",
    "* Propose how often the data should be updated and why.\n",
    "\n",
    "The data should be updated periodically, but not all the tables are necessary to do with the same frequency. The fact table, 'immigrantion', should be updated at least one per week if we want to use this data for analytics and dashboard. However, other data as demographic information in table 'city' is not needed to do every week, we can update this table every 5 years (by example). Temperature data should be updated once per month. \n",
    "\n",
    "* Write a description of how you would approach the problem differently under the following scenarios:\n",
    "\n",
    " * The data was increased by 100x.\n",
    "\n",
    " If the data became incredibly big enough to need another service, we can move to AWS EMR, which is a big data processing service designed for large dataset.\n",
    "\n",
    " * The data populates a dashboard that must be updated on a daily basis by 7am every day.\n",
    "\n",
    " The best way to approach this is by using Apache Airflow and creating a daily scheduled.\n",
    "\n",
    " * The database needed to be accessed by 100+ people.\n",
    " We can consider scale up the datawarehouse cloud service in order to being able to manage every request.\n"
   ]
  }
 ],
 "metadata": {
  "kernelspec": {
   "display_name": "Python 3",
   "language": "python",
   "name": "python3"
  },
  "language_info": {
   "codemirror_mode": {
    "name": "ipython",
    "version": 3
   },
   "file_extension": ".py",
   "mimetype": "text/x-python",
   "name": "python",
   "nbconvert_exporter": "python",
   "pygments_lexer": "ipython3",
   "version": "3.8.12"
  }
 },
 "nbformat": 4,
 "nbformat_minor": 4
}
